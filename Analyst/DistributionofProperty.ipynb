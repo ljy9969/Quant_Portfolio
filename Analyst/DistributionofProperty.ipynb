{
 "cells": [
  {
   "cell_type": "code",
   "execution_count": 17,
   "metadata": {},
   "outputs": [
    {
     "name": "stdout",
     "output_type": "stream",
     "text": [
      "KOSEF 200TR 42805\n",
      "TIGER 미국S&P500 13920\n",
      "KODEX 골드선물(H) 12695\n",
      "KOSEF 국고채10년 110455\n",
      "TIGER 미국채10년선물 11370\n",
      "ACE KRX금현물 11670\n",
      "KODEX 200미국채혼합 12265\n",
      "KOSEF200TR 8개 \n",
      " 342440.0\n",
      "370000.0\n",
      "\n",
      "TIGER미국SP500 26개 \n",
      " 361920.0\n",
      "370000.0\n",
      "\n",
      "KODEX골드선물 43개 \n",
      " 545885.0\n",
      "555000.0\n",
      "\n",
      "KOSEF국고채10년 10개 \n",
      " 1104550.0\n",
      "1202500.0\n",
      "\n",
      "TIGER미국채10년선물 105개 \n",
      " 1193850.0\n",
      "1202500.0\n",
      "\n",
      "자산 분배 후 계좌 잔액: 151355.0\n"
     ]
    }
   ],
   "source": [
    "import requests\n",
    "from bs4 import BeautifulSoup\n",
    "import re\n",
    "\n",
    "# KOSEF200TR = 41025 # or 무작정 따라하기 성장가치 소형주 전략. 위험자산_한국 주식: 11~4월 25% / 5~10월 10%. code: 294400\n",
    "# TIGER미국SP500 = 13660 # or 켄 피셔 대형주 전략. 위험자산_미국 주식: 11~4월 25% / 5~10월 10%. code: 360750\n",
    "# KODEX골드선물 = 13055 # 위험자산_금: 상시 15%. code: 132030\n",
    "# KOSEF국고채10년 = 112550 # 안전자산_한국 중기채: 11~4월 17.5% / 5~10월 32.5%. code: 148070\n",
    "# TIGER미국채10년선물 = 11935 # 안전자산_미국 중기채: 11~4월 17.5% / 5~10월 32.5%. code: 305080\n",
    "\n",
    "budget_yeon = 1000000\n",
    "budget_ye = 3700000\n",
    "\n",
    "def stock_price(code:str): # 단일 종목 주가 알아보는 함수\n",
    "    \n",
    "    # 종목명 가져오기\n",
    "    url_for_stock_name = f\"https://finance.naver.com/item/main.naver?code={code}\"\n",
    "\n",
    "    res = requests.get(url_for_stock_name)\n",
    "    soup = BeautifulSoup(res.text, \"lxml\")\n",
    "\n",
    "    stock_name = soup.select_one('.wrap_company > h2:nth-child(1) > a:nth-child(1)').text\n",
    "    stock_price = soup.select_one('#middle > dl > dd:nth-child(5)').text\n",
    "    stock_price = re.findall('(?<=현재가 ).+(?= 전일대비)', stock_price)[0]\n",
    "    stock_price = re.sub(',', '', stock_price)\n",
    "\n",
    "    print(stock_name, stock_price)\n",
    "\n",
    "    return int(stock_price)\n",
    "\n",
    "def stock_info(code:list): # 여러 종목 주가 알아보는 함수\n",
    "    prices = []\n",
    "    \n",
    "    for c in code:\n",
    "        # 종목명 가져오기\n",
    "        url_for_stock_name = f\"https://finance.naver.com/item/main.naver?code={c}\"\n",
    "\n",
    "        res = requests.get(url_for_stock_name)\n",
    "        soup = BeautifulSoup(res.text, \"lxml\")\n",
    "\n",
    "        stock_name = soup.select_one('.wrap_company > h2:nth-child(1) > a:nth-child(1)').text\n",
    "        stock_price = soup.select_one('#middle > dl > dd:nth-child(5)').text\n",
    "        stock_price = re.findall('(?<=현재가 ).+(?= 전일대비)', stock_price)[0]\n",
    "        stock_price = re.sub(',', '', stock_price)\n",
    "        stock_price = int(stock_price)\n",
    "\n",
    "        prices.append(stock_price)\n",
    "\n",
    "        print(stock_name, stock_price)\n",
    "\n",
    "    return prices\n",
    "\n",
    "KOSEF200TR = stock_price(294400) # or 무작정 따라하기 성장가치 소형주 전략. 위험자산_한국 주식: 11~4월 25% / 5~10월 10%. code: 294400\n",
    "TIGER미국SP500 = stock_price(360750) # or 켄 피셔 대형주 전략. 위험자산_미국 주식: 11~4월 25% / 5~10월 10%. code: 360750\n",
    "KODEX골드선물 = stock_price(132030) # 위험자산_금: 상시 15%. code: 132030\n",
    "KOSEF국고채10년 = stock_price(148070) # 안전자산_한국 중기채: 11~4월 17.5% / 5~10월 32.5%. code: 148070\n",
    "TIGER미국채10년선물 = stock_price(305080) # 안전자산_미국 중기채: 11~4월 17.5% / 5~10월 32.5%. code: 305080\n",
    "\n",
    "ACEKRX금현물 = stock_price(411060) # 위험자산_금: 상시 15%. code: 411060. 퇴직/개인연금 용\n",
    "KODEX200미국채혼합 = stock_price(284430) # 위험 & 안전자산_한국 주식(4) & 미국 중기채(6): code: 284430. 퇴직/개인연금 용\n",
    "\n",
    "KRstock_ye = budget_ye * 0.10 // KOSEF200TR\n",
    "print(\"KOSEF200TR\", f\"{KRstock_ye:.0f}개\", \"\\n\", KOSEF200TR * KRstock_ye)\n",
    "print(budget_ye * 0.10)\n",
    "print()\n",
    "\n",
    "USstock_ye = budget_ye * 0.10 // TIGER미국SP500\n",
    "print(\"TIGER미국SP500\", f\"{USstock_ye:.0f}개\", \"\\n\", TIGER미국SP500 * USstock_ye)\n",
    "print(budget_ye * 0.10)\n",
    "print()\n",
    "\n",
    "gold_ye = budget_ye * 0.15 // KODEX골드선물\n",
    "print(\"KODEX골드선물\", f\"{gold_ye:.0f}개\", \"\\n\", KODEX골드선물 * gold_ye)\n",
    "print(budget_ye * 0.15)\n",
    "print()\n",
    "\n",
    "KRbond_ye = budget_ye * 0.325 // KOSEF국고채10년\n",
    "print(\"KOSEF국고채10년\", f\"{KRbond_ye:.0f}개\", \"\\n\", KOSEF국고채10년 * KRbond_ye)\n",
    "print(budget_ye * 0.325)\n",
    "print()\n",
    "\n",
    "USbond_ye = budget_ye * 0.325 // TIGER미국채10년선물\n",
    "print(\"TIGER미국채10년선물\", f\"{USbond_ye:.0f}개\", \"\\n\", TIGER미국채10년선물 * USbond_ye)\n",
    "print(budget_ye * 0.325)\n",
    "print()\n",
    "\n",
    "print(\"자산 분배 후 계좌 잔액:\", budget_ye - (KOSEF200TR * KRstock_ye + TIGER미국SP500 * USstock_ye + KODEX골드선물 * gold_ye + KOSEF국고채10년 * KRbond_ye + TIGER미국채10년선물 * USbond_ye))"
   ]
  },
  {
   "cell_type": "code",
   "execution_count": 18,
   "metadata": {},
   "outputs": [
    {
     "name": "stdout",
     "output_type": "stream",
     "text": [
      "ACE KRX금현물 11670\n",
      "KODEX 200미국채혼합 12265\n"
     ]
    }
   ],
   "source": [
    "ACEKRX금현물 = stock_price(411060)\n",
    "KODEX200미국채혼합 = stock_price(284430)"
   ]
  },
  {
   "attachments": {},
   "cell_type": "markdown",
   "metadata": {},
   "source": [
    "종합 순위 Top 10의 현재가를 확인해보자"
   ]
  },
  {
   "cell_type": "code",
   "execution_count": 19,
   "metadata": {},
   "outputs": [
    {
     "name": "stdout",
     "output_type": "stream",
     "text": [
      "한국큐빅 3245\n",
      "아이즈비전 2915\n",
      "백금T&A 3345\n",
      "삼진 6630\n",
      "모헨즈 4720\n",
      "페이퍼코리아 1131\n",
      "휴네시온 5010\n",
      "원일특강 10200\n",
      "유니온커뮤니티 3710\n",
      "YW 3915\n"
     ]
    },
    {
     "data": {
      "text/plain": [
       "[3245, 2915, 3345, 6630, 4720, 1131, 5010, 10200, 3710, 3915]"
      ]
     },
     "execution_count": 19,
     "metadata": {},
     "output_type": "execute_result"
    }
   ],
   "source": [
    "top10_list = ['021650', '031310', '046310', '032750', '006920', '001020', '290270', '012620', '203450', '051390']\n",
    "\n",
    "stock_info(top10_list)"
   ]
  }
 ],
 "metadata": {
  "kernelspec": {
   "display_name": "gpuenv",
   "language": "python",
   "name": "python3"
  },
  "language_info": {
   "codemirror_mode": {
    "name": "ipython",
    "version": 3
   },
   "file_extension": ".py",
   "mimetype": "text/x-python",
   "name": "python",
   "nbconvert_exporter": "python",
   "pygments_lexer": "ipython3",
   "version": "3.10.6"
  },
  "orig_nbformat": 4,
  "vscode": {
   "interpreter": {
    "hash": "817f4db6123b263b45475c1ad0931d87cc9c804d45519838bcf259bc924123c8"
   }
  }
 },
 "nbformat": 4,
 "nbformat_minor": 2
}
