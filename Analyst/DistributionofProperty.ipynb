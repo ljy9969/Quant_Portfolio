{
 "cells": [
  {
   "cell_type": "code",
   "execution_count": null,
   "metadata": {},
   "outputs": [
    {
     "name": "stdout",
     "output_type": "stream",
     "text": [
      "KOSEF200TR 9개 \n",
      " 369225.0\n",
      "370000.0\n",
      "\n",
      "TIGER미국SP500 27개 \n",
      " 368820.0\n",
      "370000.0\n",
      "\n",
      "KODEX골드선물 42개 \n",
      " 548310.0\n",
      "555000.0\n",
      "\n",
      "KOSEF국고채10년 10개 \n",
      " 1125500.0\n",
      "1202500.0\n",
      "\n",
      "TIGER미국채10년선물 100개 \n",
      " 1193500.0\n",
      "1202500.0\n",
      "\n",
      "94645.0\n",
      "94645.0\n"
     ]
    }
   ],
   "source": [
    "budget_yeon = 1000000\n",
    "budget_ye = 3700000\n",
    "\n",
    "KOSEF200TR = 41025 # or 무작정 따라하기 성장가치 소형주 전략. 위험자산_한국 주식: 11~4월 25% / 5~10월 10%. code: 294400\n",
    "TIGER미국SP500 = 13660 # or 켄 피셔 대형주 전략. 위험자산_미국 주식: 11~4월 25% / 5~10월 10%. code: 360750\n",
    "KODEX골드선물 = 13055 # 위험자산_금: 상시 15%. code: 132030\n",
    "KOSEF국고채10년 = 112550 # 안전자산_한국 중기채: 11~4월 17.5% / 5~10월 32.5%. code: 148070\n",
    "TIGER미국채10년선물 = 11935 # 안전자산_미국 중기채: 11~4월 17.5% / 5~10월 32.5%. code: 305080\n",
    "\n",
    "KRstock_ye = budget_ye * 0.10 // KOSEF200TR\n",
    "print(\"KOSEF200TR\", f\"{KRstock_ye:.0f}개\", \"\\n\", KOSEF200TR * KRstock_ye)\n",
    "print(budget_ye * 0.10)\n",
    "print()\n",
    "\n",
    "USstock_ye = budget_ye * 0.10 // TIGER미국SP500\n",
    "print(\"TIGER미국SP500\", f\"{USstock_ye:.0f}개\", \"\\n\", TIGER미국SP500 * USstock_ye)\n",
    "print(budget_ye * 0.10)\n",
    "print()\n",
    "\n",
    "gold_ye = budget_ye * 0.15 // KODEX골드선물\n",
    "print(\"KODEX골드선물\", f\"{gold_ye:.0f}개\", \"\\n\", KODEX골드선물 * gold_ye)\n",
    "print(budget_ye * 0.15)\n",
    "print()\n",
    "\n",
    "KRbond_ye = budget_ye * 0.325 // KOSEF국고채10년\n",
    "print(\"KOSEF국고채10년\", f\"{KRbond_ye:.0f}개\", \"\\n\", KOSEF국고채10년 * KRbond_ye)\n",
    "print(budget_ye * 0.325)\n",
    "print()\n",
    "\n",
    "USbond_ye = budget_ye * 0.325 // TIGER미국채10년선물\n",
    "print(\"TIGER미국채10년선물\", f\"{USbond_ye:.0f}개\", \"\\n\", TIGER미국채10년선물 * USbond_ye)\n",
    "print(budget_ye * 0.325)\n",
    "print()\n",
    "\n",
    "print(budget_ye - (KOSEF200TR * KRstock_ye + TIGER미국SP500 * USstock_ye + KODEX골드선물 * gold_ye + KOSEF국고채10년 * KRbond_ye + TIGER미국채10년선물 * USbond_ye))\n",
    "print(budget_ye - 369225.0 - 368820.0 - 548310.0 - 1125500.0 - 1193500.0)"
   ]
  },
  {
   "cell_type": "code",
   "execution_count": null,
   "metadata": {},
   "outputs": [
    {
     "name": "stdout",
     "output_type": "stream",
     "text": [
      "KOSEF 200TR 43090\n",
      "TIGER 미국S&P500 13880\n",
      "KODEX 골드선물(H) 12720\n",
      "KOSEF 국고채10년 110230\n",
      "TIGER 미국채10년선물 11430\n"
     ]
    },
    {
     "data": {
      "text/plain": [
       "[43090, 13880, 12720, 110230, 11430]"
      ]
     },
     "metadata": {},
     "output_type": "display_data"
    }
   ],
   "source": [
    "import requests\n",
    "from bs4 import BeautifulSoup\n",
    "import re\n",
    "\n",
    "# KOSEF200TR = 41025 # or 무작정 따라하기 성장가치 소형주 전략. 위험자산_한국 주식: 11~4월 25% / 5~10월 10%. code: 294400\n",
    "# TIGER미국SP500 = 13660 # or 켄 피셔 대형주 전략. 위험자산_미국 주식: 11~4월 25% / 5~10월 10%. code: 360750\n",
    "# KODEX골드선물 = 13055 # 위험자산_금: 상시 15%. code: 132030\n",
    "# KOSEF국고채10년 = 112550 # 안전자산_한국 중기채: 11~4월 17.5% / 5~10월 32.5%. code: 148070\n",
    "# TIGER미국채10년선물 = 11935 # 안전자산_미국 중기채: 11~4월 17.5% / 5~10월 32.5%. code: 305080\n",
    "\n",
    "codes_list = ['294400', '360750', '132030', '148070', '305080']\n",
    "\n",
    "def stock_info(code:list):\n",
    "    prices = []\n",
    "    \n",
    "    for c in code:\n",
    "        # 종목명 가져오기\n",
    "        # url_for_stock_name = f\"https://finance.naver.com/item/coinfo.naver?code={code}\"\n",
    "        url_for_stock_name = f\"https://finance.naver.com/item/main.naver?code={c}\"\n",
    "\n",
    "        res = requests.get(url_for_stock_name)\n",
    "        soup = BeautifulSoup(res.text, \"lxml\")\n",
    "\n",
    "        stock_name = soup.select_one('.wrap_company > h2:nth-child(1) > a:nth-child(1)').text\n",
    "        stock_price = soup.select_one('#middle > dl > dd:nth-child(5)').text\n",
    "        stock_price = re.findall('(?<=현재가 ).+(?= 전일대비)', stock_price)[0]\n",
    "        stock_price = re.sub(',', '', stock_price)\n",
    "        stock_price = int(stock_price)\n",
    "\n",
    "        prices.append(stock_price)\n",
    "\n",
    "        print(stock_name, stock_price)\n",
    "\n",
    "    return prices\n",
    "\n",
    "stock_info(codes_list)"
   ]
  },
  {
   "cell_type": "code",
   "execution_count": null,
   "metadata": {},
   "outputs": [
    {
     "name": "stdout",
     "output_type": "stream",
     "text": [
      "KOSEF 200TR 43090\n",
      "TIGER 미국S&P500 13880\n",
      "KODEX 골드선물(H) 12720\n",
      "KOSEF 국고채10년 110230\n",
      "TIGER 미국채10년선물 11430\n",
      "ACE KRX금현물 11745\n",
      "KODEX 200미국채혼합 12340\n",
      "KOSEF200TR 8개 \n",
      " 344720.0\n",
      "370000.0\n",
      "\n",
      "TIGER미국SP500 26개 \n",
      " 360880.0\n",
      "370000.0\n",
      "\n",
      "KODEX골드선물 43개 \n",
      " 546960.0\n",
      "555000.0\n",
      "\n",
      "KOSEF국고채10년 10개 \n",
      " 1102300.0\n",
      "1202500.0\n",
      "\n",
      "TIGER미국채10년선물 105개 \n",
      " 1200150.0\n",
      "1202500.0\n",
      "\n",
      "자산 분배 후 계좌 잔액: 144990.0\n"
     ]
    }
   ],
   "source": [
    "budget_yeon = 1000000\n",
    "budget_ye = 3700000\n",
    "\n",
    "def stock_price(code:str):\n",
    "    \n",
    "    # 종목명 가져오기\n",
    "    url_for_stock_name = f\"https://finance.naver.com/item/main.naver?code={code}\"\n",
    "\n",
    "    res = requests.get(url_for_stock_name)\n",
    "    soup = BeautifulSoup(res.text, \"lxml\")\n",
    "\n",
    "    stock_name = soup.select_one('.wrap_company > h2:nth-child(1) > a:nth-child(1)').text\n",
    "    stock_price = soup.select_one('#middle > dl > dd:nth-child(5)').text\n",
    "    stock_price = re.findall('(?<=현재가 ).+(?= 전일대비)', stock_price)[0]\n",
    "    stock_price = re.sub(',', '', stock_price)\n",
    "\n",
    "    print(stock_name, stock_price)\n",
    "\n",
    "    return int(stock_price)\n",
    "\n",
    "KOSEF200TR = stock_price(294400) # or 무작정 따라하기 성장가치 소형주 전략. 위험자산_한국 주식: 11~4월 25% / 5~10월 10%. code: 294400\n",
    "TIGER미국SP500 = stock_price(360750) # or 켄 피셔 대형주 전략. 위험자산_미국 주식: 11~4월 25% / 5~10월 10%. code: 360750\n",
    "KODEX골드선물 = stock_price(132030) # 위험자산_금: 상시 15%. code: 132030\n",
    "KOSEF국고채10년 = stock_price(148070) # 안전자산_한국 중기채: 11~4월 17.5% / 5~10월 32.5%. code: 148070\n",
    "TIGER미국채10년선물 = stock_price(305080) # 안전자산_미국 중기채: 11~4월 17.5% / 5~10월 32.5%. code: 305080\n",
    "\n",
    "ACEKRX금현물 = stock_price(411060) # 위험자산_금: 상시 15%. code: 411060. 퇴직/개인연금 용\n",
    "KODEX200미국채혼합 = stock_price(284430) # 위험 & 안전자산_한국 주식(4) & 미국 중기채(6): code: 284430. 퇴직/개인연금 용\n",
    "\n",
    "KRstock_ye = budget_ye * 0.10 // KOSEF200TR\n",
    "print(\"KOSEF200TR\", f\"{KRstock_ye:.0f}개\", \"\\n\", KOSEF200TR * KRstock_ye)\n",
    "print(budget_ye * 0.10)\n",
    "print()\n",
    "\n",
    "USstock_ye = budget_ye * 0.10 // TIGER미국SP500\n",
    "print(\"TIGER미국SP500\", f\"{USstock_ye:.0f}개\", \"\\n\", TIGER미국SP500 * USstock_ye)\n",
    "print(budget_ye * 0.10)\n",
    "print()\n",
    "\n",
    "gold_ye = budget_ye * 0.15 // KODEX골드선물\n",
    "print(\"KODEX골드선물\", f\"{gold_ye:.0f}개\", \"\\n\", KODEX골드선물 * gold_ye)\n",
    "print(budget_ye * 0.15)\n",
    "print()\n",
    "\n",
    "KRbond_ye = budget_ye * 0.325 // KOSEF국고채10년\n",
    "print(\"KOSEF국고채10년\", f\"{KRbond_ye:.0f}개\", \"\\n\", KOSEF국고채10년 * KRbond_ye)\n",
    "print(budget_ye * 0.325)\n",
    "print()\n",
    "\n",
    "USbond_ye = budget_ye * 0.325 // TIGER미국채10년선물\n",
    "print(\"TIGER미국채10년선물\", f\"{USbond_ye:.0f}개\", \"\\n\", TIGER미국채10년선물 * USbond_ye)\n",
    "print(budget_ye * 0.325)\n",
    "print()\n",
    "\n",
    "print(\"자산 분배 후 계좌 잔액:\", 3700000 - (KOSEF200TR * KRstock_ye + TIGER미국SP500 * USstock_ye + KODEX골드선물 * gold_ye + KOSEF국고채10년 * KRbond_ye + TIGER미국채10년선물 * USbond_ye))"
   ]
  },
  {
   "cell_type": "code",
   "execution_count": null,
   "metadata": {},
   "outputs": [
    {
     "name": "stdout",
     "output_type": "stream",
     "text": [
      "ACE KRX금현물 11745\n",
      "KODEX 200미국채혼합 12340\n"
     ]
    }
   ],
   "source": [
    "ACEKRX금현물 = stock_price(411060)\n",
    "KODEX200미국채혼합 = stock_price(284430)"
   ]
  }
 ],
 "metadata": {
  "kernelspec": {
   "display_name": "gpuenv",
   "language": "python",
   "name": "python3"
  },
  "language_info": {
   "name": "python",
   "version": "3.9.15 (main, Nov 24 2022, 14:31:59) \n[GCC 11.2.0]"
  },
  "orig_nbformat": 4,
  "vscode": {
   "interpreter": {
    "hash": "817f4db6123b263b45475c1ad0931d87cc9c804d45519838bcf259bc924123c8"
   }
  }
 },
 "nbformat": 4,
 "nbformat_minor": 2
}
